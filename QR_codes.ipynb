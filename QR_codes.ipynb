{
 "cells": [
  {
   "cell_type": "code",
   "execution_count": 1,
   "metadata": {},
   "outputs": [],
   "source": [
    "#QRcodes are a type of matrix barcode that are machine readable optical label which contains information \n",
    "#about the item to which it is attached\n",
    "\n",
    "#dependecies for the following project ara OpenCV and qrcode libraries\n",
    "\n",
    "#generate the qrcodes\n",
    "\n",
    "import qrcode\n",
    "\n",
    "#example of data for a locater\n",
    "data = \"Message stakeholders\"\n",
    "#output filename\n",
    "filename = \"qrcode.png\"\n",
    "#generate the code\n",
    "img = qrcode.make(data)\n",
    "#save the img to a file\n",
    "img.save(filename)"
   ]
  },
  {
   "cell_type": "code",
   "execution_count": null,
   "metadata": {},
   "outputs": [],
   "source": [
    "#read the qrcodes using opencv\n",
    "\n",
    "#create a new python file readcode.py s"
   ]
  }
 ],
 "metadata": {
  "kernelspec": {
   "display_name": "Python 3",
   "language": "python",
   "name": "python3"
  },
  "language_info": {
   "codemirror_mode": {
    "name": "ipython",
    "version": 3
   },
   "file_extension": ".py",
   "mimetype": "text/x-python",
   "name": "python",
   "nbconvert_exporter": "python",
   "pygments_lexer": "ipython3",
   "version": "3.6.9"
  }
 },
 "nbformat": 4,
 "nbformat_minor": 4
}
