{
 "cells": [
  {
   "cell_type": "code",
   "execution_count": null,
   "metadata": {},
   "outputs": [],
   "source": [
    "#reads the data in the QRcode \"qrcode.png\"\n",
    "import cv2\n",
    "\n",
    "#reads the qrcode image\"qrcode.png\"\n",
    "img = cv2.imread(\"qrcode.png\")\n",
    "\n",
    "#initialize the cv2 QRCode detector\n",
    "\n",
    "detector = cv2.QRCodeDetector()\n",
    "#detect and decode the data in the qrcode\n",
    "data, bbox,straight_qrcode = detector.detectAndDecode(img)"
   ]
  },
  {
   "cell_type": "code",
   "execution_count": null,
   "metadata": {},
   "outputs": [],
   "source": [
    "#bbox helps us draw the quadrangle in the image\n",
    "#data will be printed in the console\n",
    "\n",
    "#if there is QR code we will have a blueline on the border of our qrcode\n",
    "\n",
    "if bbox is not None:\n",
    "    print(f\"QRCode data:\\n{data}\")\n",
    "    #displays the image with lines\n",
    "    n_lines = len(bbox)\n",
    "    for i in range(n_lines):\n",
    "        #draws the lines\n",
    "        point1 = tuple(bbox[i][0])\n",
    "        point2 = tuple(bbox[(i+1)%n_lines][0])\n",
    "        cv2.line(img,point1,point2,color=(255,0,0), thickness = 2)\n",
    "    "
   ]
  },
  {
   "cell_type": "code",
   "execution_count": null,
   "metadata": {},
   "outputs": [],
   "source": [
    "#display result and quit when a key is pressed\n",
    "cv2.imshow(\"img\", img)\n",
    "cv2.waitKey(0)\n",
    "cv2.destroyAllWindows()\n",
    "\n"
   ]
  },
  {
   "cell_type": "code",
   "execution_count": null,
   "metadata": {},
   "outputs": [],
   "source": []
  }
 ],
 "metadata": {
  "kernelspec": {
   "display_name": "Python 3",
   "language": "python",
   "name": "python3"
  },
  "language_info": {
   "codemirror_mode": {
    "name": "ipython",
    "version": 3
   },
   "file_extension": ".py",
   "mimetype": "text/x-python",
   "name": "python",
   "nbconvert_exporter": "python",
   "pygments_lexer": "ipython3",
   "version": "3.6.9"
  }
 },
 "nbformat": 4,
 "nbformat_minor": 4
}
